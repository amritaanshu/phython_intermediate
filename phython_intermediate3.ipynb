{
  "nbformat": 4,
  "nbformat_minor": 0,
  "metadata": {
    "colab": {
      "provenance": []
    },
    "kernelspec": {
      "name": "python3",
      "display_name": "Python 3"
    },
    "language_info": {
      "name": "python"
    }
  },
  "cells": [
    {
      "cell_type": "code",
      "execution_count": null,
      "metadata": {
        "colab": {
          "base_uri": "https://localhost:8080/"
        },
        "id": "FbIfphh0_jgU",
        "outputId": "2a44a3d8-8b9a-49f9-8c08-95c889436208"
      },
      "outputs": [
        {
          "output_type": "stream",
          "name": "stdout",
          "text": [
            "{'name': 'Max', 'age': 28, 'City': 'New York'}\n",
            "{'name': 'Mary', 'age': 27, 'city': 'Boston'}\n"
          ]
        }
      ],
      "source": [
        "#Dictionary: Key-Value pairs, Unordered, Mutable\n",
        "mydict = {\"name\": \"Max\", \"age\": 28, \"City\": \"New York\"}\n",
        "print(mydict)\n",
        "\n",
        "mydict2 = dict(name=\"Mary\", age=27, city=\"Boston\")\n",
        "print(mydict2)"
      ]
    },
    {
      "cell_type": "code",
      "source": [
        "mydict = {\"name\": \"Max\", \"age\": 28, \"city\": \"New York\"}\n",
        "print(mydict)\n",
        "\n",
        "value = mydict[\"age\"]\n",
        "print(value)"
      ],
      "metadata": {
        "colab": {
          "base_uri": "https://localhost:8080/"
        },
        "id": "oWONWZYHc74-",
        "outputId": "a0cdc8e4-da11-4d32-ccff-b291719c7b7f"
      },
      "execution_count": 1,
      "outputs": [
        {
          "output_type": "stream",
          "name": "stdout",
          "text": [
            "{'name': 'Max', 'age': 28, 'city': 'New York'}\n",
            "28\n"
          ]
        }
      ]
    },
    {
      "cell_type": "code",
      "source": [
        "mydict = {\"name\": \"Max\", \"age\": 28, \"city\": \"New York\"}\n",
        "print(mydict)\n",
        "\n",
        "mydict[\"email\"] = \"max@xyz.com\"\n",
        "print(mydict)\n",
        "\n",
        "mydict[\"email\"] = \"coolmax@xyz.com\"\n",
        "print(mydict)"
      ],
      "metadata": {
        "colab": {
          "base_uri": "https://localhost:8080/"
        },
        "id": "aHE4t-vveNEU",
        "outputId": "f93cbcb6-58f7-4425-c54e-aa4aca02d8b0"
      },
      "execution_count": 2,
      "outputs": [
        {
          "output_type": "stream",
          "name": "stdout",
          "text": [
            "{'name': 'Max', 'age': 28, 'city': 'New York'}\n",
            "{'name': 'Max', 'age': 28, 'city': 'New York', 'email': 'max@xyz.com'}\n",
            "{'name': 'Max', 'age': 28, 'city': 'New York', 'email': 'coolmax@xyz.com'}\n"
          ]
        }
      ]
    },
    {
      "cell_type": "code",
      "source": [
        "mydict = {\"name\": \"Max\", \"age\": 28, \"city\": \"New York\"}\n",
        "print(mydict)\n",
        "\n",
        "del mydict[\"name\"]\n",
        "print(mydict)"
      ],
      "metadata": {
        "colab": {
          "base_uri": "https://localhost:8080/"
        },
        "id": "K_4lzXJ_e_uf",
        "outputId": "4d2ad609-8a08-45e6-b854-6e412dc12c8f"
      },
      "execution_count": 3,
      "outputs": [
        {
          "output_type": "stream",
          "name": "stdout",
          "text": [
            "{'name': 'Max', 'age': 28, 'city': 'New York'}\n",
            "{'age': 28, 'city': 'New York'}\n"
          ]
        }
      ]
    },
    {
      "cell_type": "code",
      "source": [
        "mydict = {\"name\": \"Max\", \"age\": 28, \"city\": \"New York\"}\n",
        "print(mydict)\n",
        "\n",
        "mydict.pop(\"age\")\n",
        "print(mydict)\n",
        "\n",
        "mydict.popitem()\n",
        "print(mydict)"
      ],
      "metadata": {
        "colab": {
          "base_uri": "https://localhost:8080/"
        },
        "id": "45cqVNVMffbB",
        "outputId": "6038651d-128d-4af5-9659-eab77a684479"
      },
      "execution_count": 6,
      "outputs": [
        {
          "output_type": "stream",
          "name": "stdout",
          "text": [
            "{'name': 'Max', 'age': 28, 'city': 'New York'}\n",
            "{'name': 'Max', 'city': 'New York'}\n",
            "{'name': 'Max'}\n"
          ]
        }
      ]
    },
    {
      "cell_type": "code",
      "source": [
        "mydict = {\"name\": \"Max\", \"age\": 28, \"city\": \"New York\"}\n",
        "print(mydict)\n",
        "\n",
        "if \"lastname\" in mydict:\n",
        "  print(mydict[\"lastname\"])\n"
      ],
      "metadata": {
        "colab": {
          "base_uri": "https://localhost:8080/"
        },
        "id": "i-zFNR-_gLQF",
        "outputId": "ad34b9a3-181b-4050-bc14-884190b78569"
      },
      "execution_count": 7,
      "outputs": [
        {
          "output_type": "stream",
          "name": "stdout",
          "text": [
            "{'name': 'Max', 'age': 28, 'city': 'New York'}\n"
          ]
        }
      ]
    },
    {
      "cell_type": "code",
      "source": [
        "mydict = {\"name\": \"Max\", \"age\": 28, \"city\": \"New York\"}\n",
        "print(mydict)\n",
        "\n",
        "try:\n",
        "  print(mydict[\"lastname\"])\n",
        "except:\n",
        "  print(\"Error\")"
      ],
      "metadata": {
        "colab": {
          "base_uri": "https://localhost:8080/"
        },
        "id": "GtVr0QIgg6di",
        "outputId": "16a195fc-becf-442a-c616-221fb27b4a3b"
      },
      "execution_count": 8,
      "outputs": [
        {
          "output_type": "stream",
          "name": "stdout",
          "text": [
            "{'name': 'Max', 'age': 28, 'city': 'New York'}\n",
            "Error\n"
          ]
        }
      ]
    },
    {
      "cell_type": "code",
      "source": [
        "mydict = {\"name\": \"Max\", \"age\": 28, \"city\": \"New York\"}\n",
        "print(mydict)\n",
        "\n",
        "for key in mydict:\n",
        "  print(key)\n",
        "\n",
        "for key, value in mydict.items():\n",
        "  print(key, value)"
      ],
      "metadata": {
        "colab": {
          "base_uri": "https://localhost:8080/"
        },
        "id": "3abef7OphcGf",
        "outputId": "9cf73cd4-bf77-4573-f39b-076f24c89c12"
      },
      "execution_count": 11,
      "outputs": [
        {
          "output_type": "stream",
          "name": "stdout",
          "text": [
            "{'name': 'Max', 'age': 28, 'city': 'New York'}\n",
            "name\n",
            "age\n",
            "city\n",
            "name Max\n",
            "age 28\n",
            "city New York\n"
          ]
        }
      ]
    },
    {
      "cell_type": "code",
      "source": [
        "mydict = {\"name\": \"Max\", \"age\": 28, \"city\": \"New York\"}\n",
        "print(mydict)\n",
        "\n",
        "mydict_cpy = mydict\n",
        "\n",
        "mydict_cpy[\"email\"] = \"max@xyz.com\"\n",
        "print(mydict_cpy)\n",
        "print(mydict)"
      ],
      "metadata": {
        "colab": {
          "base_uri": "https://localhost:8080/"
        },
        "id": "FfkYC3y3iZ8s",
        "outputId": "0ff0430a-a413-416a-e305-498b6ba5fef3"
      },
      "execution_count": 13,
      "outputs": [
        {
          "output_type": "stream",
          "name": "stdout",
          "text": [
            "{'name': 'Max', 'age': 28, 'city': 'New York'}\n",
            "{'name': 'Max', 'age': 28, 'city': 'New York', 'email': 'max@xyz.com'}\n",
            "{'name': 'Max', 'age': 28, 'city': 'New York', 'email': 'max@xyz.com'}\n"
          ]
        }
      ]
    },
    {
      "cell_type": "code",
      "source": [
        "my_dict = {\"name\":\"Max\", \"age\":28, \"email\":\"max@xyz.com\"}\n",
        "my_dict_2 = dict(name=\"Mary\", age=27, city=\"Boston\")\n",
        "\n",
        "my_dict.update(my_dict_2)\n",
        "print(my_dict)"
      ],
      "metadata": {
        "colab": {
          "base_uri": "https://localhost:8080/"
        },
        "id": "m7Kxm_1ajVLr",
        "outputId": "6631db0a-c9d4-4835-b44a-15600d6a4eb8"
      },
      "execution_count": 14,
      "outputs": [
        {
          "output_type": "stream",
          "name": "stdout",
          "text": [
            "{'name': 'Mary', 'age': 27, 'email': 'max@xyz.com', 'city': 'Boston'}\n"
          ]
        }
      ]
    },
    {
      "cell_type": "code",
      "source": [
        "my_dict = {3: 9, 6: 36, 9: 81}\n",
        "print(my_dict)\n",
        "\n",
        "value = my_dict[3]\n",
        "print(value)\n",
        "\n",
        "mytuple = (8, 7)\n",
        "mydict = {mytuple: 15}\n",
        "\n",
        "print(mydict)"
      ],
      "metadata": {
        "colab": {
          "base_uri": "https://localhost:8080/"
        },
        "id": "kjf5bv7WkR6p",
        "outputId": "921618c2-256a-4eae-e746-5e797fab87d6"
      },
      "execution_count": 16,
      "outputs": [
        {
          "output_type": "stream",
          "name": "stdout",
          "text": [
            "{3: 9, 6: 36, 9: 81}\n",
            "9\n",
            "{(8, 7): 15}\n"
          ]
        }
      ]
    }
  ]
}