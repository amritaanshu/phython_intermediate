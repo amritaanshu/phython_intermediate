{
  "nbformat": 4,
  "nbformat_minor": 0,
  "metadata": {
    "colab": {
      "provenance": []
    },
    "kernelspec": {
      "name": "python3",
      "display_name": "Python 3"
    },
    "language_info": {
      "name": "python"
    }
  },
  "cells": [
    {
      "cell_type": "code",
      "execution_count": 6,
      "metadata": {
        "colab": {
          "base_uri": "https://localhost:8080/"
        },
        "id": "CKdk7lXUC83L",
        "outputId": "1f39a7fa-1084-4bcc-8b2a-696a5e9a2cd0"
      },
      "outputs": [
        {
          "output_type": "stream",
          "name": "stdout",
          "text": [
            "Counter({'a': 6, 'b': 4, 'c': 3})\n",
            "dict_items([('a', 6), ('b', 4), ('c', 3)])\n",
            "dict_keys(['a', 'b', 'c'])\n",
            "dict_values([6, 4, 3])\n",
            "[('a', 6)]\n",
            "['a', 'a', 'a', 'a', 'a', 'a', 'b', 'b', 'b', 'b', 'c', 'c', 'c']\n"
          ]
        }
      ],
      "source": [
        "#collections: Counter, namedtuple, OrderedDict, defaultdict, deque\n",
        "from collections import Counter\n",
        "a = \"aaaaaabbbbccc\"\n",
        "my_counter = Counter(a)\n",
        "print(my_counter)\n",
        "print(my_counter.items())\n",
        "print(my_counter.keys())\n",
        "print(my_counter.values())\n",
        "print(my_counter.most_common(1))\n",
        "print(list(my_counter.elements()))"
      ]
    },
    {
      "cell_type": "code",
      "source": [
        "from collections import namedtuple\n",
        "Point = namedtuple('Point', 'x,y')\n",
        "pt = Point(1, -4)\n",
        "print(pt)"
      ],
      "metadata": {
        "colab": {
          "base_uri": "https://localhost:8080/"
        },
        "id": "gHYTgDppFAYV",
        "outputId": "e4baf973-5fb7-434f-b34b-a476cd4a2d50"
      },
      "execution_count": 7,
      "outputs": [
        {
          "output_type": "stream",
          "name": "stdout",
          "text": [
            "Point(x=1, y=-4)\n"
          ]
        }
      ]
    },
    {
      "cell_type": "code",
      "source": [
        "from collections import OrderedDict\n",
        "ordered_dict = OrderedDict()\n",
        "ordered_dict['a'] = 1\n",
        "ordered_dict['b'] = 2\n",
        "ordered_dict['c'] = 3\n",
        "ordered_dict['d'] = 4\n",
        "print(ordered_dict)"
      ],
      "metadata": {
        "colab": {
          "base_uri": "https://localhost:8080/"
        },
        "id": "uzKh4kjGFof5",
        "outputId": "b481b863-9730-44b1-e479-a60fc445f243"
      },
      "execution_count": 8,
      "outputs": [
        {
          "output_type": "stream",
          "name": "stdout",
          "text": [
            "OrderedDict([('a', 1), ('b', 2), ('c', 3), ('d', 4)])\n"
          ]
        }
      ]
    },
    {
      "cell_type": "code",
      "source": [
        "from collections import defaultdict\n",
        "d = defaultdict(int)\n",
        "d['a'] = 1\n",
        "d['b'] = 2\n",
        "print(d['a'])\n",
        "print(d['b'])"
      ],
      "metadata": {
        "colab": {
          "base_uri": "https://localhost:8080/"
        },
        "id": "O4pH4Z2tGcvM",
        "outputId": "8c3faebf-1960-4283-f1c2-047fb61ce9ee"
      },
      "execution_count": 10,
      "outputs": [
        {
          "output_type": "stream",
          "name": "stdout",
          "text": [
            "1\n",
            "2\n"
          ]
        }
      ]
    },
    {
      "cell_type": "code",
      "source": [
        "from collections import deque\n",
        "d = deque()\n",
        "\n",
        "d.append(1)\n",
        "d.append(2)\n",
        "\n",
        "d.appendleft(3)\n",
        "print(d)\n",
        "\n",
        "d.pop()\n",
        "print(d)\n",
        "\n",
        "d.extendleft([4,5,6])\n",
        "print(d)\n",
        "d.rotate(1)\n",
        "print(d)"
      ],
      "metadata": {
        "colab": {
          "base_uri": "https://localhost:8080/"
        },
        "id": "FSEigNcRG_LP",
        "outputId": "be85d25d-2757-4c1d-905b-c328bfe06427"
      },
      "execution_count": 14,
      "outputs": [
        {
          "output_type": "stream",
          "name": "stdout",
          "text": [
            "deque([3, 1, 2])\n",
            "deque([3, 1])\n",
            "deque([6, 5, 4, 3, 1])\n",
            "deque([1, 6, 5, 4, 3])\n"
          ]
        }
      ]
    }
  ]
}