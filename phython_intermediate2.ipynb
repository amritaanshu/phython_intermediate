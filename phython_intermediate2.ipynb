{
  "nbformat": 4,
  "nbformat_minor": 0,
  "metadata": {
    "colab": {
      "provenance": []
    },
    "kernelspec": {
      "name": "python3",
      "display_name": "Python 3"
    },
    "language_info": {
      "name": "python"
    }
  },
  "cells": [
    {
      "cell_type": "code",
      "execution_count": 4,
      "metadata": {
        "colab": {
          "base_uri": "https://localhost:8080/",
          "height": 0
        },
        "id": "2E0j0VdVjTcH",
        "outputId": "c96a1ee7-9afb-4e26-80ea-0446b6fffb19"
      },
      "outputs": [
        {
          "output_type": "stream",
          "name": "stdout",
          "text": [
            "('Max', 28, 'Boston')\n",
            "Max\n",
            "28\n",
            "Boston\n",
            "Yes\n"
          ]
        }
      ],
      "source": [
        "#Tuples: ordered, immutable, allows duplicate elements\n",
        "mytuple = tuple((\"Max\", 28, \"Boston\"))\n",
        "print(mytuple)\n",
        "\n",
        "for x in mytuple:\n",
        "  print(x)\n",
        "\n",
        "if \"Max\" in mytuple:\n",
        "  print(\"Yes\")\n",
        "else:\n",
        "  print(\"No\")"
      ]
    },
    {
      "cell_type": "code",
      "source": [
        "#Tuple: ordered, immutable, allows duplicate elements\n",
        "my_tuple = ('a', 'p', 'p', 'l', 'e')\n",
        "\n",
        "my_list = list(my_tuple)\n",
        "print(my_list)\n",
        "\n",
        "my_tuple2 = tuple(my_list)\n",
        "print(my_tuple2)"
      ],
      "metadata": {
        "colab": {
          "base_uri": "https://localhost:8080/"
        },
        "id": "1jQwVEuqlfTP",
        "outputId": "6a880c02-f559-43dd-d2b3-856c81910448"
      },
      "execution_count": 5,
      "outputs": [
        {
          "output_type": "stream",
          "name": "stdout",
          "text": [
            "['a', 'p', 'p', 'l', 'e']\n",
            "('a', 'p', 'p', 'l', 'e')\n"
          ]
        }
      ]
    },
    {
      "cell_type": "code",
      "source": [
        "a = (1, 2, 3, 4, 5, 6, 7, 8, 9, 10)\n",
        "\n",
        "b = a[:6]\n",
        "print(b)"
      ],
      "metadata": {
        "colab": {
          "base_uri": "https://localhost:8080/"
        },
        "id": "KdTKPOSzww96",
        "outputId": "e358449a-5833-4519-8a4d-595b0fec21f1"
      },
      "execution_count": 6,
      "outputs": [
        {
          "output_type": "stream",
          "name": "stdout",
          "text": [
            "(1, 2, 3, 4, 5, 6)\n"
          ]
        }
      ]
    },
    {
      "cell_type": "code",
      "source": [
        "my_tuple = \"Max\", 28, \"Boston\"\n",
        "\n",
        "name, age, city = my_tuple\n",
        "print(name)\n",
        "print(age)\n",
        "print(city)\n",
        "\n",
        "my_tuple2 = (0, 1, 2, 3, 4)\n",
        "\n",
        "i1, *i2, i3 = my_tuple2\n",
        "\n",
        "print(i1)\n",
        "print(i2)\n",
        "print(i3)"
      ],
      "metadata": {
        "colab": {
          "base_uri": "https://localhost:8080/"
        },
        "id": "0zqBBHabxPas",
        "outputId": "b2af7fa1-1abc-43c3-8c1a-9c01bade7590"
      },
      "execution_count": 8,
      "outputs": [
        {
          "output_type": "stream",
          "name": "stdout",
          "text": [
            "Max\n",
            "28\n",
            "Boston\n",
            "0\n",
            "[1, 2, 3]\n",
            "4\n"
          ]
        }
      ]
    },
    {
      "cell_type": "code",
      "source": [
        "import timeit\n",
        "print(timeit.timeit(stmt=\"(0, 1, 2, 3, 4, 5)\", number=1000000))\n",
        "print(timeit.timeit(stmt=\"(0, 1, 2, 3, 4, 5)\", number=1000000))"
      ],
      "metadata": {
        "colab": {
          "base_uri": "https://localhost:8080/"
        },
        "id": "D6BpHuVqyTVa",
        "outputId": "839c39a5-64dd-42f1-daa1-1c0d27479596"
      },
      "execution_count": 9,
      "outputs": [
        {
          "output_type": "stream",
          "name": "stdout",
          "text": [
            "0.019035044999782258\n",
            "0.01603554300027099\n"
          ]
        }
      ]
    }
  ]
}