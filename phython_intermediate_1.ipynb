{
  "nbformat": 4,
  "nbformat_minor": 0,
  "metadata": {
    "colab": {
      "provenance": []
    },
    "kernelspec": {
      "name": "python3",
      "display_name": "Python 3"
    },
    "language_info": {
      "name": "python"
    }
  },
  "cells": [
    {
      "cell_type": "code",
      "execution_count": 14,
      "metadata": {
        "colab": {
          "base_uri": "https://localhost:8080/"
        },
        "id": "yJY_K1UsZ76-",
        "outputId": "20276ae1-746e-4808-aab2-d865cf914841"
      },
      "outputs": [
        {
          "output_type": "stream",
          "name": "stdout",
          "text": [
            "banana\n",
            "cherry\n",
            "apple\n",
            "yes\n",
            "3\n",
            "['banana', 'cherry', 'apple', 'lemon']\n",
            "['banana', 'blueberry', 'cherry', 'apple', 'lemon']\n",
            "lemon\n",
            "['banana', 'blueberry', 'cherry', 'apple']\n",
            "['banana', 'blueberry', 'apple']\n",
            "['apple', 'blueberry', 'banana']\n",
            "[2, 3, -1]\n",
            "[1, 2, 3, -1, -2, -3]\n",
            "[1, 2, 3, -1, -2, -3]\n",
            "[-3, -2, -1, 1, 2, 3]\n",
            "[0, 0, 0, 0, 0]\n",
            "[1, 2, 3, -1, -2, -3, 0, 0, 0, 0, 0]\n"
          ]
        }
      ],
      "source": [
        "#Lists: ordered, mutable, allows duplicate elements\n",
        "mylist = [\"banana\", \"cherry\", \"apple\"]\n",
        "\n",
        "for x in mylist:\n",
        "  print(x)\n",
        "\n",
        "if \"apple\" in mylist:\n",
        "  print(\"yes\")\n",
        "\n",
        "else:\n",
        "  print(\"no\")\n",
        "\n",
        "print(len(mylist))\n",
        "\n",
        "mylist.append(\"lemon\")\n",
        "print(mylist)\n",
        "\n",
        "mylist.insert(1, \"blueberry\")\n",
        "print(mylist)\n",
        "\n",
        "item = mylist.pop()\n",
        "print(item)\n",
        "print(mylist)\n",
        "\n",
        "item2 = mylist.remove(\"cherry\")\n",
        "print(mylist)\n",
        "\n",
        "item3 = mylist.reverse()\n",
        "print(mylist)\n",
        "\n",
        "mylist2 = [1, 2, 3, -1, -2, -3]\n",
        "a = mylist2[1:4]\n",
        "print(a)\n",
        "print(mylist2)\n",
        "\n",
        "new_list = sorted(mylist2)\n",
        "print(mylist2)\n",
        "print(new_list)\n",
        "\n",
        "mylist3 = [0] * 5\n",
        "print(mylist3)\n",
        "\n",
        "new_list2 = mylist2 + mylist3\n",
        "print(new_list2)"
      ]
    },
    {
      "cell_type": "code",
      "source": [
        "list_org = [\"banana\", \"cherry\", \"apple\"]\n",
        "\n",
        "list_cpy = list_org[:]\n",
        "\n",
        "list_cpy.append(\"lemon\")\n",
        "\n",
        "print(list_cpy)\n",
        "print(list_org)"
      ],
      "metadata": {
        "colab": {
          "base_uri": "https://localhost:8080/"
        },
        "id": "iqCr35P_facr",
        "outputId": "3fc0b5b8-917d-4a06-ba12-d9368c9f19b9"
      },
      "execution_count": 18,
      "outputs": [
        {
          "output_type": "stream",
          "name": "stdout",
          "text": [
            "['banana', 'cherry', 'apple', 'lemon']\n",
            "['banana', 'cherry', 'apple']\n"
          ]
        }
      ]
    },
    {
      "cell_type": "code",
      "source": [
        "mylist = [1, 2, 3, 4, 5, 6]\n",
        "b = [i*i for i in mylist]\n",
        "\n",
        "print(mylist)\n",
        "print(b)"
      ],
      "metadata": {
        "colab": {
          "base_uri": "https://localhost:8080/"
        },
        "id": "wmYZ3nbAgs22",
        "outputId": "147ca8d1-9509-4bd3-de03-c5706d44703e"
      },
      "execution_count": 19,
      "outputs": [
        {
          "output_type": "stream",
          "name": "stdout",
          "text": [
            "[1, 2, 3, 4, 5, 6]\n",
            "[1, 4, 9, 16, 25, 36]\n"
          ]
        }
      ]
    }
  ]
}