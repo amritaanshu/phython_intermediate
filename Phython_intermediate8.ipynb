{
  "nbformat": 4,
  "nbformat_minor": 0,
  "metadata": {
    "colab": {
      "provenance": []
    },
    "kernelspec": {
      "name": "python3",
      "display_name": "Python 3"
    },
    "language_info": {
      "name": "python"
    }
  },
  "cells": [
    {
      "cell_type": "code",
      "execution_count": 1,
      "metadata": {
        "colab": {
          "base_uri": "https://localhost:8080/"
        },
        "id": "Pz7Wdp8SeCU4",
        "outputId": "768650ed-8b64-4252-d411-1df36970a963"
      },
      "outputs": [
        {
          "output_type": "stream",
          "name": "stdout",
          "text": [
            "1\n",
            "1\n",
            "1\n",
            "1\n"
          ]
        }
      ],
      "source": [
        "# itertools: product, permutation, combination, accumulate, groupby, and infinite iterators\n",
        "from itertools import count, cycle, repeat\n",
        "\n",
        "a = [1, 2, 3]\n",
        "for i in repeat(1, 4):\n",
        "  print(i)\n",
        ""
      ]
    },
    {
      "cell_type": "code",
      "source": [
        "#lambda arguments: expression\n",
        "add10 = lambda x: x + 10\n",
        "print(add10(5))\n",
        "\n",
        "def add10_func(x):\n",
        "  return x +10\n",
        "\n",
        "mult = lambda x,y: x*y\n",
        "print(mult(2,7))\n",
        "\n"
      ],
      "metadata": {
        "colab": {
          "base_uri": "https://localhost:8080/"
        },
        "id": "hKcKrHY4fPxh",
        "outputId": "642b6512-ca5d-4422-c0e8-5e104b3152c2"
      },
      "execution_count": 3,
      "outputs": [
        {
          "output_type": "stream",
          "name": "stdout",
          "text": [
            "15\n",
            "14\n"
          ]
        }
      ]
    },
    {
      "cell_type": "code",
      "source": [
        "points2D = [(1, 2), (15, 1), (5, -1), (10, 4)]\n",
        "points2D_sorted = sorted(points2D, key=lambda x: x[1])\n",
        "points3D_sorted = sorted(points2D, key=lambda x: x[0] + x[1])\n",
        "print(points2D)\n",
        "print(points2D_sorted)\n",
        "print(points3D_sorted)"
      ],
      "metadata": {
        "colab": {
          "base_uri": "https://localhost:8080/"
        },
        "id": "jZDoJ5MMgGls",
        "outputId": "a055e17d-9998-4941-f5e5-bef24497852d"
      },
      "execution_count": 5,
      "outputs": [
        {
          "output_type": "stream",
          "name": "stdout",
          "text": [
            "[(1, 2), (15, 1), (5, -1), (10, 4)]\n",
            "[(5, -1), (15, 1), (1, 2), (10, 4)]\n",
            "[(1, 2), (5, -1), (10, 4), (15, 1)]\n"
          ]
        }
      ]
    },
    {
      "cell_type": "code",
      "source": [
        "# lambda\n",
        "#map(func, seq)\n",
        "a = [1, 2, 3, 4, 5]\n",
        "b = map(lambda x: x*2, a)\n",
        "print(list(b))"
      ],
      "metadata": {
        "colab": {
          "base_uri": "https://localhost:8080/"
        },
        "id": "4KdFCYCAhdmi",
        "outputId": "6649eb6d-e696-4069-e680-e154a64796aa"
      },
      "execution_count": 7,
      "outputs": [
        {
          "output_type": "stream",
          "name": "stdout",
          "text": [
            "[2, 4, 6, 8, 10]\n"
          ]
        }
      ]
    },
    {
      "cell_type": "code",
      "source": [
        "# lambda\n",
        "# filter(func, seq)\n",
        "a = [1, 2, 3, 4, 5, 6]\n",
        "b = filter(lambda x: x%2==0, a)\n",
        "print(list(b))"
      ],
      "metadata": {
        "colab": {
          "base_uri": "https://localhost:8080/"
        },
        "id": "VFcJu5VkiE0X",
        "outputId": "5e1582a7-ef7c-482d-9f8b-2f9775bbbb86"
      },
      "execution_count": 8,
      "outputs": [
        {
          "output_type": "stream",
          "name": "stdout",
          "text": [
            "[2, 4, 6]\n"
          ]
        }
      ]
    },
    {
      "cell_type": "code",
      "source": [
        "# lambda\n",
        "# reduce(func, seq)\n",
        "from functools import reduce\n",
        "a = [1, 2, 3, 4]\n",
        "\n",
        "product_a = reduce(lambda x,y: x*y, a)\n",
        "print(product_a)"
      ],
      "metadata": {
        "colab": {
          "base_uri": "https://localhost:8080/"
        },
        "id": "sqc4G775iowL",
        "outputId": "5ee3f434-666e-44e5-e72a-198a134259e0"
      },
      "execution_count": 9,
      "outputs": [
        {
          "output_type": "stream",
          "name": "stdout",
          "text": [
            "24\n"
          ]
        }
      ]
    }
  ]
}