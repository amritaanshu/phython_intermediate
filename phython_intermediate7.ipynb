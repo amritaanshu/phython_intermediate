{
  "nbformat": 4,
  "nbformat_minor": 0,
  "metadata": {
    "colab": {
      "provenance": []
    },
    "kernelspec": {
      "name": "python3",
      "display_name": "Python 3"
    },
    "language_info": {
      "name": "python"
    }
  },
  "cells": [
    {
      "cell_type": "code",
      "execution_count": null,
      "metadata": {
        "colab": {
          "base_uri": "https://localhost:8080/"
        },
        "id": "X1Fc0Fg1IjO1",
        "outputId": "78fdb9e0-42f0-4889-f020-e1dbc5c3edf9"
      },
      "outputs": [
        {
          "output_type": "stream",
          "name": "stdout",
          "text": [
            "[(1, 3, 1, 3), (1, 3, 1, 4), (1, 3, 2, 3), (1, 3, 2, 4), (1, 4, 1, 3), (1, 4, 1, 4), (1, 4, 2, 3), (1, 4, 2, 4), (2, 3, 1, 3), (2, 3, 1, 4), (2, 3, 2, 3), (2, 3, 2, 4), (2, 4, 1, 3), (2, 4, 1, 4), (2, 4, 2, 3), (2, 4, 2, 4)]\n"
          ]
        }
      ],
      "source": [
        "#itertools: product, permutations, combinations, accumulate, groupby, and infinite iterators\n",
        "from itertools import product\n",
        "a = [1, 2]\n",
        "b= [3, 4]\n",
        "prod = product(a,b, repeat=2)\n",
        "print(list(prod))"
      ]
    },
    {
      "cell_type": "code",
      "source": [
        "from itertools import permutations\n",
        "a = [1, 2, 3]\n",
        "perm = permutations(a)\n",
        "print(list(perm))"
      ],
      "metadata": {
        "colab": {
          "base_uri": "https://localhost:8080/"
        },
        "id": "6wJB31QzJl3Q",
        "outputId": "e203f3a2-d54e-43fc-bfe9-4ec286c4db7c"
      },
      "execution_count": null,
      "outputs": [
        {
          "output_type": "stream",
          "name": "stdout",
          "text": [
            "[(1, 2, 3), (1, 3, 2), (2, 1, 3), (2, 3, 1), (3, 1, 2), (3, 2, 1)]\n"
          ]
        }
      ]
    },
    {
      "cell_type": "code",
      "source": [
        "from itertools import combinations, combinations_with_replacement\n",
        "a = [1, 2, 3, 4]\n",
        "comb = combinations(a, 2)\n",
        "print(list(comb))\n",
        "comb_wr = combinations_with_replacement(a, 2)\n",
        "print(list(comb_wr))"
      ],
      "metadata": {
        "colab": {
          "base_uri": "https://localhost:8080/"
        },
        "id": "Nppcs91oKChI",
        "outputId": "f59c34e2-d648-40c5-c841-27c1aa9e310e"
      },
      "execution_count": null,
      "outputs": [
        {
          "output_type": "stream",
          "name": "stdout",
          "text": [
            "[(1, 2), (1, 3), (1, 4), (2, 3), (2, 4), (3, 4)]\n",
            "[(1, 1), (1, 2), (1, 3), (1, 4), (2, 2), (2, 3), (2, 4), (3, 3), (3, 4), (4, 4)]\n"
          ]
        }
      ]
    },
    {
      "cell_type": "code",
      "source": [
        "from itertools import accumulate\n",
        "import operator\n",
        "a = [1, 2, 3, 4]\n",
        "acc = accumulate(a, func=operator.mul)\n",
        "print(a)\n",
        "print(list(acc))"
      ],
      "metadata": {
        "colab": {
          "base_uri": "https://localhost:8080/"
        },
        "id": "jeZItEWhK35_",
        "outputId": "7db7f0ba-d4af-4491-f22f-21f44bf233c8"
      },
      "execution_count": null,
      "outputs": [
        {
          "output_type": "stream",
          "name": "stdout",
          "text": [
            "[1, 2, 3, 4]\n",
            "[1, 2, 6, 24]\n"
          ]
        }
      ]
    },
    {
      "cell_type": "code",
      "source": [
        "from itertools import groupby\n",
        "\n",
        "def smaller_than_3(x):\n",
        "  return x < 3\n",
        "\n",
        "a = [1, 2, 3, 4]\n",
        "group_obj = groupby(a, key=smaller_than_3)\n",
        "for key, value in group_obj:\n",
        "  print(key, list(value))"
      ],
      "metadata": {
        "colab": {
          "base_uri": "https://localhost:8080/"
        },
        "id": "MloNDxRoLslB",
        "outputId": "91d9893e-6d9d-46f5-e7c2-8b91a76baa38"
      },
      "execution_count": null,
      "outputs": [
        {
          "output_type": "stream",
          "name": "stdout",
          "text": [
            "True [1, 2]\n",
            "False [3, 4]\n"
          ]
        }
      ]
    },
    {
      "cell_type": "code",
      "source": [
        "from itertools import groupby\n",
        "\n",
        "persons = [{'name': 'Tim', 'age': 27}, {'name': 'Dan', 'age': 25},\n",
        "           {'name': 'Lisa', 'age': 27}, {'name': 'Claire', 'age': 28}]\n",
        "\n",
        "\n",
        "group_obj = groupby(persons, key=lambda x: x['age'])\n",
        "for key, value in group_obj:\n",
        "  print(key, list(value))"
      ],
      "metadata": {
        "colab": {
          "base_uri": "https://localhost:8080/"
        },
        "id": "kFbGrKi7Mr8m",
        "outputId": "0d4d9e51-6ddb-40c5-ff5e-604f4d4f0fda"
      },
      "execution_count": null,
      "outputs": [
        {
          "output_type": "stream",
          "name": "stdout",
          "text": [
            "27 [{'name': 'Tim', 'age': 27}]\n",
            "25 [{'name': 'Dan', 'age': 25}]\n",
            "27 [{'name': 'Lisa', 'age': 27}]\n",
            "28 [{'name': 'Claire', 'age': 28}]\n"
          ]
        }
      ]
    },
    {
      "cell_type": "code",
      "source": [
        "from itertools import count, cycle, repeat\n",
        "\n",
        "for i in count(10):\n",
        "  print(i)\n",
        "  if i == 15:\n",
        "    break"
      ],
      "metadata": {
        "colab": {
          "base_uri": "https://localhost:8080/"
        },
        "id": "33cOGAIxN2oj",
        "outputId": "d0e1c9e9-10d2-48fd-8f3d-2fb857dc1735"
      },
      "execution_count": null,
      "outputs": [
        {
          "output_type": "stream",
          "name": "stdout",
          "text": [
            "10\n",
            "11\n",
            "12\n",
            "13\n",
            "14\n",
            "15\n"
          ]
        }
      ]
    }
  ]
}