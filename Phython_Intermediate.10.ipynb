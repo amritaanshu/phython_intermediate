{
 "cells": [
  {
   "cell_type": "code",
   "execution_count": 6,
   "id": "d883d69b-0eb8-4310-8543-a84460fa9c11",
   "metadata": {},
   "outputs": [
    {
     "name": "stdout",
     "output_type": "stream",
     "text": [
      "5\n"
     ]
    }
   ],
   "source": [
    "import random\n",
    "\n",
    "a = random.randrange(1, 10)\n",
    "print(a)"
   ]
  },
  {
   "cell_type": "code",
   "execution_count": 10,
   "id": "46447402-a3a1-4983-b8ac-1d79ec308108",
   "metadata": {},
   "outputs": [
    {
     "name": "stdout",
     "output_type": "stream",
     "text": [
      "0.07578606539447273\n"
     ]
    }
   ],
   "source": [
    "import random\n",
    "\n",
    "a = random.normalvariate(0, 1)\n",
    "print(a)"
   ]
  },
  {
   "cell_type": "code",
   "execution_count": 20,
   "id": "6384de22-a220-427a-bd2e-b7f65522c828",
   "metadata": {},
   "outputs": [
    {
     "name": "stdout",
     "output_type": "stream",
     "text": [
      "['A', 'F', 'E', 'D', 'G', 'C', 'B']\n",
      "['G', 'C', 'D']\n"
     ]
    }
   ],
   "source": [
    "import random\n",
    "\n",
    "mylist = list(\"ABCDEFG\")\n",
    "a = random.sample(mylist, 3)\n",
    "random.shuffle(mylist)\n",
    "print(mylist)\n",
    "print(a)"
   ]
  },
  {
   "cell_type": "code",
   "execution_count": 24,
   "id": "4fc14303-7eb8-438b-a1ad-e3d6b94840a3",
   "metadata": {},
   "outputs": [
    {
     "name": "stdout",
     "output_type": "stream",
     "text": [
      "0.13436424411240122\n",
      "2\n",
      "0.9560342718892494\n",
      "1\n"
     ]
    }
   ],
   "source": [
    "import random\n",
    "\n",
    "random.seed(1)\n",
    "print(random.random())\n",
    "print(random.randint(1,10))\n",
    "random.seed(2)\n",
    "print(random.random())\n",
    "print(random.randint(1,10))"
   ]
  },
  {
   "cell_type": "code",
   "execution_count": 28,
   "id": "dd22e770-13a6-4467-a1e1-d11b8eafbdce",
   "metadata": {},
   "outputs": [
    {
     "name": "stdout",
     "output_type": "stream",
     "text": [
      "9\n"
     ]
    }
   ],
   "source": [
    "import secrets\n",
    "\n",
    "a = secrets.randbelow(10)\n",
    "print(a)"
   ]
  },
  {
   "cell_type": "code",
   "execution_count": 40,
   "id": "e8763e6f-5c21-4ed7-8ac6-8b04cd6213fa",
   "metadata": {},
   "outputs": [
    {
     "name": "stdout",
     "output_type": "stream",
     "text": [
      "13\n"
     ]
    }
   ],
   "source": [
    "import secrets\n",
    "\n",
    "a = secrets.randbits(4)\n",
    "#1111\n",
    "print(a)"
   ]
  },
  {
   "cell_type": "code",
   "execution_count": 42,
   "id": "9e20392b-7d98-4ec0-9aab-274a9e8c32b8",
   "metadata": {},
   "outputs": [
    {
     "name": "stdout",
     "output_type": "stream",
     "text": [
      "F\n"
     ]
    }
   ],
   "source": [
    "import secrets\n",
    "\n",
    "mylist = list(\"ABCDEFGH\")\n",
    "a = secrets.choice(mylist)\n",
    "print(a)"
   ]
  },
  {
   "cell_type": "code",
   "execution_count": 44,
   "id": "f548a980-2d21-46be-a3a7-a5a924757e92",
   "metadata": {},
   "outputs": [
    {
     "name": "stdout",
     "output_type": "stream",
     "text": [
      "[[0.48721659 0.35161581 0.41076951]\n",
      " [0.77070257 0.70887436 0.69765024]\n",
      " [0.21515531 0.70115819 0.00334043]]\n"
     ]
    }
   ],
   "source": [
    "import numpy as np\n",
    "\n",
    "a = np.random.rand(3,3)\n",
    "print(a)"
   ]
  },
  {
   "cell_type": "code",
   "execution_count": 48,
   "id": "d2bf9abf-301f-4cec-9e0f-1a4dd4a84bc2",
   "metadata": {},
   "outputs": [
    {
     "name": "stdout",
     "output_type": "stream",
     "text": [
      "[[3 0 1 8]\n",
      " [2 2 9 7]\n",
      " [9 8 1 0]]\n"
     ]
    }
   ],
   "source": [
    "import numpy as np\n",
    "\n",
    "a = np.random.randint(0, 10, (3,4))\n",
    "print(a)"
   ]
  },
  {
   "cell_type": "code",
   "execution_count": 52,
   "id": "7601c3b0-ac6f-4d88-a159-ff0f8820d5af",
   "metadata": {},
   "outputs": [
    {
     "name": "stdout",
     "output_type": "stream",
     "text": [
      "[[1 2 3]\n",
      " [4 5 6]\n",
      " [7 8 9]]\n",
      "[[4 5 6]\n",
      " [1 2 3]\n",
      " [7 8 9]]\n"
     ]
    }
   ],
   "source": [
    "import numpy as np\n",
    "\n",
    "arr = np.array([[1,2,3], [4,5,6], [7,8,9]])\n",
    "print(arr)\n",
    "np.random.shuffle(arr)\n",
    "print(arr)"
   ]
  },
  {
   "cell_type": "code",
   "execution_count": 54,
   "id": "887a155a-927c-47e9-a5f4-ef8d82b84d32",
   "metadata": {},
   "outputs": [
    {
     "name": "stdout",
     "output_type": "stream",
     "text": [
      "[[4.17022005e-01 7.20324493e-01 1.14374817e-04]\n",
      " [3.02332573e-01 1.46755891e-01 9.23385948e-02]\n",
      " [1.86260211e-01 3.45560727e-01 3.96767474e-01]]\n",
      "[[4.17022005e-01 7.20324493e-01 1.14374817e-04]\n",
      " [3.02332573e-01 1.46755891e-01 9.23385948e-02]\n",
      " [1.86260211e-01 3.45560727e-01 3.96767474e-01]]\n"
     ]
    }
   ],
   "source": [
    "import numpy as np\n",
    "\n",
    "np.random.seed(1)\n",
    "print(np.random.rand(3,3))\n",
    "np.random.seed(1)\n",
    "print(np.random.rand(3,3))"
   ]
  },
  {
   "cell_type": "code",
   "execution_count": null,
   "id": "47d5e718-8cca-4bd0-853b-78fe233e8bca",
   "metadata": {},
   "outputs": [],
   "source": []
  }
 ],
 "metadata": {
  "kernelspec": {
   "display_name": "Python 3 (ipykernel)",
   "language": "python",
   "name": "python3"
  },
  "language_info": {
   "codemirror_mode": {
    "name": "ipython",
    "version": 3
   },
   "file_extension": ".py",
   "mimetype": "text/x-python",
   "name": "python",
   "nbconvert_exporter": "python",
   "pygments_lexer": "ipython3",
   "version": "3.12.4"
  }
 },
 "nbformat": 4,
 "nbformat_minor": 5
}
