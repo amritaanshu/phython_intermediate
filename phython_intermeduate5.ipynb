{
  "nbformat": 4,
  "nbformat_minor": 0,
  "metadata": {
    "colab": {
      "provenance": []
    },
    "kernelspec": {
      "name": "python3",
      "display_name": "Python 3"
    },
    "language_info": {
      "name": "python"
    }
  },
  "cells": [
    {
      "cell_type": "code",
      "execution_count": 1,
      "metadata": {
        "colab": {
          "base_uri": "https://localhost:8080/"
        },
        "id": "7_wZIxY77jr0",
        "outputId": "70edf665-33da-465e-c8c0-b0c4c36a3f59"
      },
      "outputs": [
        {
          "output_type": "stream",
          "name": "stdout",
          "text": [
            "I'm a programmer\n",
            "Hello\n",
            "World\n"
          ]
        }
      ],
      "source": [
        "#strings: ordered, immutable, text representation\n",
        "my_string = \"I'm a programmer\"\n",
        "print(my_string)\n",
        "\n",
        "my_string2 = \"\"\"Hello\n",
        "World\"\"\"\n",
        "print(my_string2)"
      ]
    },
    {
      "cell_type": "code",
      "source": [
        "my_string = \"Hello World\"\n",
        "char = my_string[0]\n",
        "print(char)\n",
        "substring = my_string[1:5]\n",
        "print(substring)"
      ],
      "metadata": {
        "colab": {
          "base_uri": "https://localhost:8080/"
        },
        "id": "udOTQP_k8xmm",
        "outputId": "b8fff933-9e00-48c6-eceb-c853ff68200e"
      },
      "execution_count": 3,
      "outputs": [
        {
          "output_type": "stream",
          "name": "stdout",
          "text": [
            "H\n",
            "ello\n"
          ]
        }
      ]
    },
    {
      "cell_type": "code",
      "source": [
        "greeting = \"Hello\"\n",
        "name = \"Tom\"\n",
        "sentence = greeting + \" \" + name\n",
        "print(sentence)"
      ],
      "metadata": {
        "colab": {
          "base_uri": "https://localhost:8080/"
        },
        "id": "K15q988_9gp7",
        "outputId": "ff38d494-d5ad-478a-9396-dedcf50049c5"
      },
      "execution_count": 4,
      "outputs": [
        {
          "output_type": "stream",
          "name": "stdout",
          "text": [
            "Hello Tom\n"
          ]
        }
      ]
    },
    {
      "cell_type": "code",
      "source": [
        "greeting = \"Hello\"\n",
        "for i in greeting:\n",
        "  print(i)\n",
        "\n",
        "if 'e' in greeting:\n",
        "  print('Yes')\n",
        "else:\n",
        "  print('No')"
      ],
      "metadata": {
        "colab": {
          "base_uri": "https://localhost:8080/"
        },
        "id": "IQThmw2d96BK",
        "outputId": "c29106aa-28da-48df-a578-c24dc6ad9b9c"
      },
      "execution_count": 6,
      "outputs": [
        {
          "output_type": "stream",
          "name": "stdout",
          "text": [
            "H\n",
            "e\n",
            "l\n",
            "l\n",
            "o\n",
            "Yes\n"
          ]
        }
      ]
    },
    {
      "cell_type": "code",
      "source": [
        "my_string = '   Hello World   '\n",
        "my_string = my_string.strip()\n",
        "print(my_string)"
      ],
      "metadata": {
        "colab": {
          "base_uri": "https://localhost:8080/"
        },
        "id": "ZNCrEpev-j25",
        "outputId": "dffacb51-8727-4e63-aacf-d1c9dddd8222"
      },
      "execution_count": 7,
      "outputs": [
        {
          "output_type": "stream",
          "name": "stdout",
          "text": [
            "Hello World\n"
          ]
        }
      ]
    },
    {
      "cell_type": "code",
      "source": [
        "my_string = 'Hello World'\n",
        "print(my_string.upper())\n",
        "print(my_string.startswith('H'))\n",
        "print(my_string.endswith('World'))\n",
        "print(my_string.find('o'))\n",
        "print(my_string.count('l'))"
      ],
      "metadata": {
        "colab": {
          "base_uri": "https://localhost:8080/"
        },
        "id": "L6T1GaPb_Hta",
        "outputId": "782fb6fc-abf6-4a13-f9c5-295a032db0da"
      },
      "execution_count": 14,
      "outputs": [
        {
          "output_type": "stream",
          "name": "stdout",
          "text": [
            "HELLO WORLD\n",
            "True\n",
            "True\n",
            "4\n",
            "3\n"
          ]
        }
      ]
    },
    {
      "cell_type": "code",
      "source": [
        "my_string = 'Hello World'\n",
        "print(my_string.replace('World', 'Universe'))\n"
      ],
      "metadata": {
        "colab": {
          "base_uri": "https://localhost:8080/"
        },
        "id": "Otnnqc-NBAOe",
        "outputId": "67750889-7c84-48c7-c2b2-1253b0ce52a8"
      },
      "execution_count": 15,
      "outputs": [
        {
          "output_type": "stream",
          "name": "stdout",
          "text": [
            "Hello Universe\n"
          ]
        }
      ]
    },
    {
      "cell_type": "code",
      "source": [
        "my_string = 'how are you doing'\n",
        "my_list = my_string.split(\" \")\n",
        "print(my_list)\n",
        "new_string = ' '.join(my_list)\n",
        "print(new_string)"
      ],
      "metadata": {
        "colab": {
          "base_uri": "https://localhost:8080/"
        },
        "id": "IiMTOyObDTfj",
        "outputId": "5b1a46e3-f5a1-4081-e320-78efaa65b957"
      },
      "execution_count": 19,
      "outputs": [
        {
          "output_type": "stream",
          "name": "stdout",
          "text": [
            "['how', 'are', 'you', 'doing']\n",
            "how are you doing\n"
          ]
        }
      ]
    },
    {
      "cell_type": "code",
      "source": [
        "my_list = ['a'] * 6\n",
        "print(my_list)\n",
        "\n",
        "#bad\n",
        "my_string = ''\n",
        "for i in my_list:\n",
        "  my_string += i\n",
        "print(my_string)\n",
        "\n",
        "#good\n",
        "my_string = ''.join(my_list)\n",
        "print(my_string)\n"
      ],
      "metadata": {
        "colab": {
          "base_uri": "https://localhost:8080/"
        },
        "id": "xOfYPtWwEH20",
        "outputId": "e678e104-add7-4614-84c0-6dbf3536391e"
      },
      "execution_count": 20,
      "outputs": [
        {
          "output_type": "stream",
          "name": "stdout",
          "text": [
            "['a', 'a', 'a', 'a', 'a', 'a']\n",
            "aaaaaa\n",
            "aaaaaa\n"
          ]
        }
      ]
    },
    {
      "cell_type": "code",
      "source": [
        "# %, .fomart(), f-Strings\n",
        "var = \"Tom\"\n",
        "my_string = \"the variable is %s\" % var\n",
        "print(my_string)\n",
        "\n",
        "var = 3\n",
        "my_string2 = \"the variable is %d\" % var\n",
        "print(my_string2)\n",
        "\n",
        "var = 3.111223\n",
        "my_string3 = \"the variable is %f\" % var\n",
        "print(my_string3)"
      ],
      "metadata": {
        "colab": {
          "base_uri": "https://localhost:8080/"
        },
        "id": "5i1KCwpzFIoF",
        "outputId": "dc44621f-5bd6-4ea6-fbfe-36d4927644ad"
      },
      "execution_count": 24,
      "outputs": [
        {
          "output_type": "stream",
          "name": "stdout",
          "text": [
            "the variable is Tom\n",
            "the variable is 3\n",
            "the variable is 3.111223\n"
          ]
        }
      ]
    },
    {
      "cell_type": "code",
      "source": [
        "var = 3.1112223\n",
        "var2 = 6\n",
        "my_string = \"the variable is {:.2f} and {}\".format(var,var2)\n",
        "print(my_string)"
      ],
      "metadata": {
        "colab": {
          "base_uri": "https://localhost:8080/"
        },
        "id": "cRQSURc2Gjx0",
        "outputId": "5b0790a5-0400-47f2-dd7b-1c223ba1060b"
      },
      "execution_count": 26,
      "outputs": [
        {
          "output_type": "stream",
          "name": "stdout",
          "text": [
            "the variable is 3.11 and 6\n"
          ]
        }
      ]
    },
    {
      "cell_type": "code",
      "source": [
        "var = 3.1112223\n",
        "var2 = 6\n",
        "my_string = f\"the variable is {var} and {var2}\"\n",
        "print(my_string)"
      ],
      "metadata": {
        "colab": {
          "base_uri": "https://localhost:8080/"
        },
        "id": "hLC7VOsuHLxr",
        "outputId": "503a20d5-84d7-470f-b81d-15ec930bd1d4"
      },
      "execution_count": 27,
      "outputs": [
        {
          "output_type": "stream",
          "name": "stdout",
          "text": [
            "the variable is 3.1112223 and 6\n"
          ]
        }
      ]
    }
  ]
}