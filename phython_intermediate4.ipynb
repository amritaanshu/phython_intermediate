{
  "nbformat": 4,
  "nbformat_minor": 0,
  "metadata": {
    "colab": {
      "provenance": []
    },
    "kernelspec": {
      "name": "python3",
      "display_name": "Python 3"
    },
    "language_info": {
      "name": "python"
    }
  },
  "cells": [
    {
      "cell_type": "code",
      "execution_count": 2,
      "metadata": {
        "colab": {
          "base_uri": "https://localhost:8080/"
        },
        "id": "WugAWigPNB6M",
        "outputId": "28e3db72-d3ae-48c8-ef0f-f1d56e3cc667"
      },
      "outputs": [
        {
          "output_type": "stream",
          "name": "stdout",
          "text": [
            "{1, 2, 3}\n"
          ]
        }
      ],
      "source": [
        "#Sets: unordered, mutable, no duplicates\n",
        "myset = {1, 2, 3, 1, 2}\n",
        "print(myset)"
      ]
    },
    {
      "cell_type": "code",
      "source": [
        "myset = set([1, 2, 3])\n",
        "print(myset)"
      ],
      "metadata": {
        "colab": {
          "base_uri": "https://localhost:8080/"
        },
        "id": "mb7lQ58tNs1D",
        "outputId": "df63c9c2-b541-4e84-e497-1bf9b6150e01"
      },
      "execution_count": 3,
      "outputs": [
        {
          "output_type": "stream",
          "name": "stdout",
          "text": [
            "{1, 2, 3}\n"
          ]
        }
      ]
    },
    {
      "cell_type": "code",
      "source": [
        "myset = set(\"Hello\")\n",
        "print(myset)"
      ],
      "metadata": {
        "colab": {
          "base_uri": "https://localhost:8080/"
        },
        "id": "tTjrurwCN7XD",
        "outputId": "067fe89e-c085-4e3f-a601-17931cfe0e8e"
      },
      "execution_count": 4,
      "outputs": [
        {
          "output_type": "stream",
          "name": "stdout",
          "text": [
            "{'l', 'H', 'o', 'e'}\n"
          ]
        }
      ]
    },
    {
      "cell_type": "code",
      "source": [
        "myset = set()\n",
        "print(type(myset))"
      ],
      "metadata": {
        "colab": {
          "base_uri": "https://localhost:8080/"
        },
        "id": "JuP8ue7ROFPd",
        "outputId": "bb6588f9-791d-4360-9a02-8156f015b91d"
      },
      "execution_count": 7,
      "outputs": [
        {
          "output_type": "stream",
          "name": "stdout",
          "text": [
            "<class 'set'>\n"
          ]
        }
      ]
    },
    {
      "cell_type": "code",
      "source": [
        "myset = set()\n",
        "\n",
        "myset.add(1)\n",
        "myset.add(2)\n",
        "myset.add(3)\n",
        "\n",
        "myset.remove(3)\n",
        "myset.discard(2)\n",
        "myset.discard(4)\n",
        "print(myset)"
      ],
      "metadata": {
        "colab": {
          "base_uri": "https://localhost:8080/"
        },
        "id": "5jaRZkn8OeFk",
        "outputId": "03bca0a2-5212-464b-cba6-c5ef30618191"
      },
      "execution_count": 9,
      "outputs": [
        {
          "output_type": "stream",
          "name": "stdout",
          "text": [
            "{1}\n"
          ]
        }
      ]
    },
    {
      "cell_type": "code",
      "source": [
        "myset = set()\n",
        "\n",
        "myset.add(1)\n",
        "myset.add(2)\n",
        "\n",
        "myset.clear()\n",
        "\n",
        "print(myset)"
      ],
      "metadata": {
        "colab": {
          "base_uri": "https://localhost:8080/"
        },
        "id": "a_BvRbPyPAjI",
        "outputId": "14d5b745-cd5a-4339-a013-118317110f74"
      },
      "execution_count": 10,
      "outputs": [
        {
          "output_type": "stream",
          "name": "stdout",
          "text": [
            "set()\n"
          ]
        }
      ]
    },
    {
      "cell_type": "code",
      "source": [
        "myset = set()\n",
        "\n",
        "myset.add(1)\n",
        "myset.add(2)\n",
        "myset.add(3)\n",
        "\n",
        "print(myset.pop())\n",
        "\n",
        "print(myset)"
      ],
      "metadata": {
        "colab": {
          "base_uri": "https://localhost:8080/"
        },
        "id": "iW8hFcKgPPGm",
        "outputId": "820b57c2-527b-44f8-8883-cc45de1b4129"
      },
      "execution_count": 11,
      "outputs": [
        {
          "output_type": "stream",
          "name": "stdout",
          "text": [
            "1\n",
            "{2, 3}\n"
          ]
        }
      ]
    },
    {
      "cell_type": "code",
      "source": [
        "myset = set()\n",
        "\n",
        "myset.add(1)\n",
        "myset.add(2)\n",
        "\n",
        "for x in myset:\n",
        "  print(x)\n",
        "\n",
        "if 1 in myset:\n",
        "  print(\"yes\")"
      ],
      "metadata": {
        "colab": {
          "base_uri": "https://localhost:8080/"
        },
        "id": "oQCtOYq4PgMs",
        "outputId": "6bcdf5ea-ac15-4991-a3d9-6051ed160e58"
      },
      "execution_count": 13,
      "outputs": [
        {
          "output_type": "stream",
          "name": "stdout",
          "text": [
            "1\n",
            "2\n",
            "yes\n"
          ]
        }
      ]
    },
    {
      "cell_type": "code",
      "source": [
        "odds = {1, 3, 5, 7, 9}\n",
        "evens = {0, 2, 4, 6, 8}\n",
        "primes = {2, 3, 5, 7}\n",
        "\n",
        "u = odds.union(evens)\n",
        "print(u)\n",
        "\n",
        "i = odds.intersection(evens)\n",
        "print(i)"
      ],
      "metadata": {
        "colab": {
          "base_uri": "https://localhost:8080/"
        },
        "id": "YX92KweJP4fJ",
        "outputId": "c84ff244-a38e-4f28-ee96-9af486187429"
      },
      "execution_count": 15,
      "outputs": [
        {
          "output_type": "stream",
          "name": "stdout",
          "text": [
            "{0, 1, 2, 3, 4, 5, 6, 7, 8, 9}\n",
            "set()\n"
          ]
        }
      ]
    },
    {
      "cell_type": "code",
      "source": [
        "setA = {1, 2, 3, 4, 5, 6, 7, 8, 9}\n",
        "setB = {1, 2, 3, 10, 11, 12}\n",
        "\n",
        "diff = setA.difference(setB)\n",
        "print(diff)\n",
        "\n",
        "diff2 = setB.symmetric_difference(setA)\n",
        "print(diff2)\n",
        "\n",
        "setA.update(setB)\n",
        "print(setA)\n",
        "\n",
        "setA.intersection_update(setB)\n",
        "print(setA)"
      ],
      "metadata": {
        "colab": {
          "base_uri": "https://localhost:8080/"
        },
        "id": "OOf1OqXbQj0R",
        "outputId": "b96b171f-a46e-46ef-9186-f5cad4742107"
      },
      "execution_count": 19,
      "outputs": [
        {
          "output_type": "stream",
          "name": "stdout",
          "text": [
            "{4, 5, 6, 7, 8, 9}\n",
            "{4, 5, 6, 7, 8, 9, 10, 11, 12}\n",
            "{1, 2, 3, 4, 5, 6, 7, 8, 9, 10, 11, 12}\n",
            "{1, 2, 3, 10, 11, 12}\n",
            "{4, 5, 6, 7, 8, 9}\n",
            "{4, 5, 6, 7, 8, 9, 10, 11, 12}\n",
            "{1, 2, 3, 4, 5, 6, 7, 8, 9, 10, 11, 12}\n",
            "{1, 2, 3, 10, 11, 12}\n"
          ]
        }
      ]
    },
    {
      "cell_type": "code",
      "source": [
        "setA = {1, 2, 3, 4, 5, 6}\n",
        "setB = {1, 2, 3}\n",
        "setC = {7, 8}\n",
        "\n",
        "print(setA.issubset(setB))\n",
        "print(setA.issuperset(setB))\n",
        "print(setA.isdisjoint(setC))"
      ],
      "metadata": {
        "colab": {
          "base_uri": "https://localhost:8080/"
        },
        "id": "IX9LirTJR3CR",
        "outputId": "b18a95ba-fead-4171-9115-9f4bf566b448"
      },
      "execution_count": 23,
      "outputs": [
        {
          "output_type": "stream",
          "name": "stdout",
          "text": [
            "False\n",
            "True\n",
            "True\n"
          ]
        }
      ]
    },
    {
      "cell_type": "code",
      "source": [
        "setA = {1, 2, 3, 4, 5, 6}\n",
        "\n",
        "setB = setA.copy()\n",
        "\n",
        "setB.add(7)\n",
        "print(setB)\n",
        "print(setA)"
      ],
      "metadata": {
        "colab": {
          "base_uri": "https://localhost:8080/"
        },
        "id": "nPh0s-hYSpR9",
        "outputId": "17b01dd1-39ba-4cd8-d854-1c2580822754"
      },
      "execution_count": 25,
      "outputs": [
        {
          "output_type": "stream",
          "name": "stdout",
          "text": [
            "{1, 2, 3, 4, 5, 6, 7}\n",
            "{1, 2, 3, 4, 5, 6}\n"
          ]
        }
      ]
    },
    {
      "cell_type": "code",
      "source": [
        "a = frozenset([1, 2, 3, 4])\n",
        "\n",
        "print(a)"
      ],
      "metadata": {
        "colab": {
          "base_uri": "https://localhost:8080/"
        },
        "id": "6iRuCRx1TCyI",
        "outputId": "4b7ce962-a46e-4fef-e0e9-b1fe9ba30234"
      },
      "execution_count": 26,
      "outputs": [
        {
          "output_type": "stream",
          "name": "stdout",
          "text": [
            "frozenset({1, 2, 3, 4})\n"
          ]
        }
      ]
    }
  ]
}